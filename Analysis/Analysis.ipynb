{
  "nbformat": 4,
  "nbformat_minor": 0,
  "metadata": {
    "colab": {
      "provenance": []
    },
    "kernelspec": {
      "name": "python3",
      "display_name": "Python 3"
    },
    "language_info": {
      "name": "python"
    }
  },
  "cells": [
    {
      "cell_type": "code",
      "execution_count": null,
      "metadata": {
        "id": "Cy_xSEPm98qG"
      },
      "outputs": [],
      "source": [
        "import sys\n",
        "COLAB_LOC = 'google.colab' in sys.modules\n",
        "RUN_CELLS = COLAB_LOC\n",
        "\n",
        "PROJECT_NAME = 'Question_Generation/'\n",
        "FOLDER_LOCATION = '/content/drive/MyDrive/Dissertation/QG/' + PROJECT_NAME"
      ]
    },
    {
      "cell_type": "code",
      "source": [
        "if COLAB_LOC:\n",
        "    from google.colab import drive\n",
        "    drive.mount('/content/drive', force_remount=True)"
      ],
      "metadata": {
        "colab": {
          "base_uri": "https://localhost:8080/"
        },
        "id": "JX5vqWrh-BBB",
        "outputId": "ee39c94a-717a-41e1-dd34-41758398a31f"
      },
      "execution_count": null,
      "outputs": [
        {
          "output_type": "stream",
          "name": "stdout",
          "text": [
            "Mounted at /content/drive\n"
          ]
        }
      ]
    },
    {
      "cell_type": "code",
      "source": [
        "if COLAB_LOC:\n",
        "    # Setting as working environment\n",
        "    import os \n",
        "\n",
        "    def create_and_set_working_directory(path: str):\n",
        "        # check if your project folder exists. if not, it will be created.\n",
        "        if os.path.isdir(path) == False:\n",
        "            os.mkdir(path)\n",
        "            print(path + ' did not exist but was created.')\n",
        "\n",
        "        # change the OS to use your project folder as the working directory\n",
        "        os.chdir(path)\n",
        "\n",
        "        print('Working directory changed to: \\n' + path)\n",
        "\n",
        "    create_and_set_working_directory(FOLDER_LOCATION)\n",
        "    !pwd"
      ],
      "metadata": {
        "colab": {
          "base_uri": "https://localhost:8080/"
        },
        "id": "JyBUxeQT-EID",
        "outputId": "efd5b1c2-5abe-4518-ad2e-b1c25f99bf81"
      },
      "execution_count": null,
      "outputs": [
        {
          "output_type": "stream",
          "name": "stdout",
          "text": [
            "Working directory changed to: \n",
            "/content/drive/MyDrive/Dissertation/QG/Question_Generation/\n",
            "/content/drive/MyDrive/Dissertation/QG/Question_Generation\n"
          ]
        }
      ]
    },
    {
      "cell_type": "code",
      "source": [
        "import pandas as pd\n",
        "import numpy as np"
      ],
      "metadata": {
        "id": "5EIpAOXB-HfM"
      },
      "execution_count": null,
      "outputs": []
    },
    {
      "cell_type": "code",
      "source": [
        "df = pd.read_csv('Model_4_output.csv')"
      ],
      "metadata": {
        "id": "j8yOCgEL-Vqz"
      },
      "execution_count": null,
      "outputs": []
    },
    {
      "cell_type": "code",
      "source": [
        "generated_questions = df['Generated Question']\n",
        "original_question_list = df['SQuAD']"
      ],
      "metadata": {
        "id": "FiaeVGUH_J2y"
      },
      "execution_count": null,
      "outputs": []
    },
    {
      "cell_type": "code",
      "source": [
        "generated_questions"
      ],
      "metadata": {
        "colab": {
          "base_uri": "https://localhost:8080/"
        },
        "id": "pQTXY9xe_VGG",
        "outputId": "cb196659-6578-49d0-d414-7012b6055839"
      },
      "execution_count": null,
      "outputs": [
        {
          "output_type": "execute_result",
          "data": {
            "text/plain": [
              "0       What percentage of the incoming class at Notre...\n",
              "1              What did Pauline Viardot advise Chopin on?\n",
              "2       When did Destiny's Child change their name to ...\n",
              "3       What is the most common classification of anti...\n",
              "4       How many Grammy nomination is Beyoncé the most...\n",
              "                              ...                        \n",
              "1496                What has Beyoncé received praise for?\n",
              "1497                         What is genocide defined as?\n",
              "1498     Who came to Paris with her husband and daughter?\n",
              "1499    What is on the top of the Main Building's gold...\n",
              "1500    How much money did Beyoncé contribute to the S...\n",
              "Name: Generated Question, Length: 1501, dtype: object"
            ]
          },
          "metadata": {},
          "execution_count": 95
        }
      ]
    },
    {
      "cell_type": "code",
      "source": [
        "original_question_list"
      ],
      "metadata": {
        "colab": {
          "base_uri": "https://localhost:8080/"
        },
        "id": "mSVwn0hJ_Y98",
        "outputId": "9d135e7e-9293-4df4-9960-bf2d89751536"
      },
      "execution_count": null,
      "outputs": [
        {
          "output_type": "execute_result",
          "data": {
            "text/plain": [
              "0       What percentage of students at Notre Dame part...\n",
              "1           What two things did Chopin advise Viardot on?\n",
              "2       Beyonce's group changed their name to Destiny'...\n",
              "3       Besides sprectrum of activity and chemical str...\n",
              "4          How many Grammy nominations does Beyonce have?\n",
              "                              ...                        \n",
              "1496                For what does Beyonce receive praise?\n",
              "1497                  What is the definition of genocide?\n",
              "1498      Which family member came to Paris in June 1849?\n",
              "1499    What sits on top of the Main Building at Notre...\n",
              "1500    How much money did Beyoncé contribute at the b...\n",
              "Name: SQuAD, Length: 1501, dtype: object"
            ]
          },
          "metadata": {},
          "execution_count": 96
        }
      ]
    },
    {
      "cell_type": "code",
      "source": [
        "def wer_score(hyp, ref, print_matrix=False):\n",
        "  N = len(hyp)\n",
        "  M = len(ref)\n",
        "  L = np.zeros((N,M))\n",
        "  for i in range(0, N):\n",
        "    for j in range(0, M):\n",
        "      if min(i,j) == 0:\n",
        "        L[i,j] = max(i,j)\n",
        "      else:\n",
        "        deletion = L[i-1,j] + 1\n",
        "        insertion = L[i,j-1] + 1\n",
        "        sub = 1 if hyp[i] != ref[j] else 0\n",
        "        substitution = L[i-1,j-1] + sub\n",
        "        L[i,j] = min(deletion, min(insertion, substitution))\n",
        "        # print(\"{} - {}: del {} ins {} sub {} s {}\".format(hyp[i], ref[j], deletion, insertion, substitution, sub))\n",
        "  if print_matrix:\n",
        "    print(\"WER matrix ({}x{}): \".format(N, M))\n",
        "    print(L)\n",
        "  return int(L[N-1, M-1])"
      ],
      "metadata": {
        "id": "GWZqp-ZQ_je6"
      },
      "execution_count": null,
      "outputs": []
    },
    {
      "cell_type": "code",
      "source": [
        "wer_score_list = []\n",
        "for hyp, ref in zip(generated_questions, original_question_list):\n",
        "  wer_score_list.append(wer_score(hyp.split(), ref.split()))"
      ],
      "metadata": {
        "id": "AshkTeOx_puC"
      },
      "execution_count": null,
      "outputs": []
    },
    {
      "cell_type": "code",
      "source": [
        "import statistics\n",
        "wer_score_list\n",
        "x = pd.Series(wer_score_list)"
      ],
      "metadata": {
        "id": "7u_0C8tv_ruF"
      },
      "execution_count": null,
      "outputs": []
    },
    {
      "cell_type": "code",
      "source": [
        "x.describe()"
      ],
      "metadata": {
        "colab": {
          "base_uri": "https://localhost:8080/"
        },
        "id": "Ye2YafajJx7I",
        "outputId": "0743465e-8de9-48a9-b6d5-bd38389f4303"
      },
      "execution_count": null,
      "outputs": [
        {
          "output_type": "execute_result",
          "data": {
            "text/plain": [
              "count    1501.000000\n",
              "mean        7.936709\n",
              "std         3.892128\n",
              "min         0.000000\n",
              "25%         5.000000\n",
              "50%         8.000000\n",
              "75%        10.000000\n",
              "max        30.000000\n",
              "dtype: float64"
            ]
          },
          "metadata": {},
          "execution_count": 169
        }
      ]
    },
    {
      "cell_type": "code",
      "source": [
        "dicti = {}\n",
        "gen = []\n",
        "org = []\n",
        "for idx,x in enumerate(wer_score_list):\n",
        "  # print(x)\n",
        "  if x == 30:\n",
        "    print(idx)\n",
        "    gen.append(generated_questions[idx])\n",
        "    org.append(original_question_list[idx])\n",
        "dicti = {'SQuAD':gen, 'Generated Question':org}"
      ],
      "metadata": {
        "colab": {
          "base_uri": "https://localhost:8080/"
        },
        "id": "lSV5tDjb_x1a",
        "outputId": "94071231-398b-48f8-a725-dafa064fb194"
      },
      "execution_count": null,
      "outputs": [
        {
          "output_type": "stream",
          "name": "stdout",
          "text": [
            "844\n"
          ]
        }
      ]
    },
    {
      "cell_type": "code",
      "source": [
        "save_df = pd.DataFrame(data = dicti)\n",
        "if COLAB_LOC:\n",
        "  save_df.to_csv('Model_4_wer_30.csv')"
      ],
      "metadata": {
        "id": "Vp-JZKjBBfFm"
      },
      "execution_count": null,
      "outputs": []
    },
    {
      "cell_type": "markdown",
      "source": [
        "Read csv"
      ],
      "metadata": {
        "id": "P5EHBmIfHeO2"
      }
    },
    {
      "cell_type": "code",
      "source": [
        "df_1 = pd.read_csv('Model_4_wer_0.csv').sample(n=2)\n",
        "df_1['WER'] = 0\n",
        "df_1 = df_1.drop(['Unnamed: 0'], axis=1)\n",
        "df_2 = pd.read_csv('Model_4_wer_8.csv').sample(n=3)\n",
        "df_2['WER'] = 8\n",
        "df_2 = df_2.drop(['Unnamed: 0'], axis=1)\n",
        "df_3 = pd.read_csv('Model_4_wer_30.csv').sample(n=1)\n",
        "df_3['WER'] = 30\n",
        "df_3 = df_3.drop(['Unnamed: 0'], axis=1)"
      ],
      "metadata": {
        "id": "sqTXC7sBHd8M"
      },
      "execution_count": null,
      "outputs": []
    },
    {
      "cell_type": "code",
      "source": [
        "final_df = [df_1, df_2, df_3]"
      ],
      "metadata": {
        "id": "66NtILbpPk9d"
      },
      "execution_count": null,
      "outputs": []
    },
    {
      "cell_type": "code",
      "source": [
        "data_df = pd.concat(final_df)"
      ],
      "metadata": {
        "id": "UPYKQuNUQMGx"
      },
      "execution_count": null,
      "outputs": []
    },
    {
      "cell_type": "code",
      "source": [
        "with pd.option_context(\"max_colwidth\", 1000):\n",
        "  print(data_df.to_latex(index = False))"
      ],
      "metadata": {
        "colab": {
          "base_uri": "https://localhost:8080/"
        },
        "id": "8adcFO1XS0rk",
        "outputId": "9ce2958e-9723-4d4d-975e-7036f8d08269"
      },
      "execution_count": null,
      "outputs": [
        {
          "output_type": "stream",
          "name": "stdout",
          "text": [
            "\\begin{tabular}{llr}\n",
            "\\toprule\n",
            "                                                                                                                                                                                                                             SQuAD &                                                              Generated Question &  WER \\\\\n",
            "\\midrule\n",
            "                                                                                                                                                                                        What did Beyoncé announce in January 2010? &                                      What did Beyoncé announce in January 2010? &    0 \\\\\n",
            "                                                                                                                                                                                                 When did Chopin return to Warsaw? &                                               When did Chopin return to Warsaw? &    0 \\\\\n",
            "                                                                                                                                                                                           What animals are allowed to be trapped? &                           What two predators can be hunted in specific numbers? &    8 \\\\\n",
            "                                                                                                                                                                             Who did Gurian write his doctoral dissertation under? & Who did Waldemar Gurian receive his tutelage under while seeking his doctorate? &    8 \\\\\n",
            "                                                                                                                                                                                                Where was Beyoncé born and raised? &                                   In what city and state did Beyonce  grow up?  &    8 \\\\\n",
            "What has Beyoncé influenced Adele, Ariana Grande, Lady Gaga, Bridgit Mendler, Rihanna, Kelly Rowland, Meghan Trainor, Nicole Scherzinger, Rita Oran, Zendayo, Cheryl Cole, JoJo, Alexis Jordan, Jessica Sanchez and Azealia Banks? &                            What about Beyonce has influenced many entertainers? &   30 \\\\\n",
            "\\bottomrule\n",
            "\\end{tabular}\n",
            "\n"
          ]
        }
      ]
    }
  ]
}